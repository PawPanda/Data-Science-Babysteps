{
  "nbformat": 4,
  "nbformat_minor": 0,
  "metadata": {
    "colab": {
      "provenance": [],
      "authorship_tag": "ABX9TyPp+qt+5KSqCZIZqDysB7gh",
      "include_colab_link": true
    },
    "kernelspec": {
      "name": "python3",
      "display_name": "Python 3"
    },
    "language_info": {
      "name": "python"
    }
  },
  "cells": [
    {
      "cell_type": "markdown",
      "metadata": {
        "id": "view-in-github",
        "colab_type": "text"
      },
      "source": [
        "<a href=\"https://colab.research.google.com/github/PawPanda/Data-Science-Babysteps/blob/main/DataScienceEcosystem.ipynb\" target=\"_parent\"><img src=\"https://colab.research.google.com/assets/colab-badge.svg\" alt=\"Open In Colab\"/></a>"
      ]
    },
    {
      "cell_type": "markdown",
      "source": [
        "#Data Science Tools and Ecosystem\n",
        "##Author - Chirag Pawar"
      ],
      "metadata": {
        "id": "hnMeSk-AY9Dq"
      }
    },
    {
      "cell_type": "markdown",
      "source": [
        "##In this notebook, Data Science Tools and Ecosystem are summarized.\n",
        "####Objectives:\n",
        "\n",
        "\n",
        "* Popular Data Science languages\n",
        "* Commonly used libraries\n",
        "* Data Science Tools\n",
        "* Arithmetic expressions in python\n",
        "\n"
      ],
      "metadata": {
        "id": "30le_-hEZJ9q"
      }
    },
    {
      "cell_type": "markdown",
      "source": [
        "###Some of the popular languages that Data Scientists use are:\n",
        "\n",
        "\n",
        "1. Python\n",
        "2. R\n",
        "3. Java\n",
        "4. Scala\n",
        "5. Julia\n",
        "6. Matlab\n",
        "\n"
      ],
      "metadata": {
        "id": "9vmZy6fqZXWr"
      }
    },
    {
      "cell_type": "markdown",
      "source": [
        "###Some of the commonly used libraries used by Data Scientists include:\n",
        "\n",
        "\n",
        "1. Pandas\n",
        "2. Numpy\n",
        "3. SciPy\n",
        "4. MatPlotLib\n",
        "5. Tensorflow\n",
        "6. Keras\n",
        "\n",
        "\n"
      ],
      "metadata": {
        "id": "Nhvjd6a_a0Xb"
      }
    },
    {
      "cell_type": "markdown",
      "source": [
        "|Data Science Tools|\n",
        "|---|\n",
        "|Jupyter Notebook|\n",
        "|JupyterLab|\n",
        "|Google Colabatory|"
      ],
      "metadata": {
        "id": "9rJpWvTxbZUH"
      }
    },
    {
      "cell_type": "markdown",
      "source": [
        "###Below are a few examples of evaluating arithmetic expressions in Python\n",
        "1. a+b\n",
        "2. a-b\n",
        "3. a*b\n",
        "4. a/b\n",
        "5. a%b\n",
        "6. a//b\n"
      ],
      "metadata": {
        "id": "qK5sASB6cXdz"
      }
    },
    {
      "cell_type": "code",
      "source": [
        "(3*4)+5  # This a simple arithmetic expression to mutiply then add integers"
      ],
      "metadata": {
        "colab": {
          "base_uri": "https://localhost:8080/"
        },
        "id": "QIHrTAI1dBqH",
        "outputId": "bdedb084-2b10-4f9e-d5e2-1213e6e4e0cc"
      },
      "execution_count": 2,
      "outputs": [
        {
          "output_type": "execute_result",
          "data": {
            "text/plain": [
              "17"
            ]
          },
          "metadata": {},
          "execution_count": 2
        }
      ]
    },
    {
      "cell_type": "code",
      "source": [
        "minutes = 200;\n",
        "hours = minutes/60;   #This will convert 200 minutes to hours by diving by 60\n",
        "print(hours)"
      ],
      "metadata": {
        "colab": {
          "base_uri": "https://localhost:8080/"
        },
        "id": "KOUVfVtMdOOH",
        "outputId": "0584e079-f597-444b-e33e-702dca059028"
      },
      "execution_count": 5,
      "outputs": [
        {
          "output_type": "stream",
          "name": "stdout",
          "text": [
            "3.3333333333333335\n"
          ]
        }
      ]
    },
    {
      "cell_type": "code",
      "source": [],
      "metadata": {
        "id": "_-OAi34Idfln"
      },
      "execution_count": null,
      "outputs": []
    }
  ]
}